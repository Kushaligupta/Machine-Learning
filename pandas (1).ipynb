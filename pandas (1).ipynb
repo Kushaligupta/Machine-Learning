{
 "cells": [
  {
   "cell_type": "code",
   "execution_count": 1,
   "id": "148e5789-aa91-4e4b-8133-23991d80fee6",
   "metadata": {},
   "outputs": [
    {
     "name": "stdout",
     "output_type": "stream",
     "text": [
      "   Tid Refund Marital Status Taxable Income Cheat\n",
      "0    1    Yes         Single           125K    No\n",
      "1    2     No        Married           100K    No\n",
      "2    3     No         Single            70K    No\n",
      "3    4    Yes        Married           120K    No\n",
      "4    5     No       Divorced            95K   Yes\n",
      "5    6     No        Married            60K    No\n",
      "6    7    Yes       Divorced           220K    No\n",
      "7    8     No         Single            85K   Yes\n",
      "8    9     No        Married            75K    No\n",
      "9   10     No         Single            90K   Yes\n"
     ]
    }
   ],
   "source": [
    "import pandas as pd\n",
    "data={\n",
    "    'Tid' : [1,2,3,4,5,6,7,8,9,10],\n",
    "    'Refund' : ['Yes','No','No','Yes','No','No','Yes','No','No','No'],\n",
    "    'Marital Status' : ['Single','Married','Single','Married','Divorced','Married','Divorced','Single','Married','Single'],\n",
    "    'Taxable Income' : ['125K','100K','70K','120K','95K','60K','220K','85K','75K','90K'],\n",
    "    'Cheat' : ['No','No','No','No','Yes','No','No','Yes','No','Yes']}\n",
    "df=pd.DataFrame(data)\n",
    "print(df)"
   ]
  },
  {
   "cell_type": "code",
   "execution_count": 2,
   "id": "03627d8f-2502-4600-9d98-af3e53438359",
   "metadata": {},
   "outputs": [
    {
     "name": "stdout",
     "output_type": "stream",
     "text": [
      "   Tid Refund Marital Status Taxable Income Cheat\n",
      "0    1    Yes         Single           125K    No\n",
      "4    5     No       Divorced            95K   Yes\n",
      "7    8     No         Single            85K   Yes\n",
      "8    9     No        Married            75K    No\n"
     ]
    }
   ],
   "source": [
    "Row=df.loc[[0,4,7,8]]\n",
    "print(Row)"
   ]
  },
  {
   "cell_type": "code",
   "execution_count": 3,
   "id": "4c43f781-f189-4723-8542-e90ffc871ad8",
   "metadata": {},
   "outputs": [
    {
     "name": "stdout",
     "output_type": "stream",
     "text": [
      "   Tid Refund Marital Status Taxable Income Cheat\n",
      "3    4    Yes        Married           120K    No\n",
      "4    5     No       Divorced            95K   Yes\n",
      "5    6     No        Married            60K    No\n",
      "6    7    Yes       Divorced           220K    No\n",
      "7    8     No         Single            85K   Yes\n",
      "  Marital Status Taxable Income Cheat\n",
      "4       Divorced            95K   Yes\n",
      "5        Married            60K    No\n",
      "6       Divorced           220K    No\n",
      "7         Single            85K   Yes\n",
      "8        Married            75K    No\n",
      "  Refund Marital Status Taxable Income\n",
      "0    Yes         Single           125K\n",
      "1     No        Married           100K\n",
      "2     No         Single            70K\n",
      "3    Yes        Married           120K\n",
      "4     No       Divorced            95K\n",
      "5     No        Married            60K\n",
      "6    Yes       Divorced           220K\n",
      "7     No         Single            85K\n",
      "8     No        Married            75K\n",
      "9     No         Single            90K\n"
     ]
    }
   ],
   "source": [
    "a=df.iloc[3:8]\n",
    "print(a)\n",
    "b=df.iloc[4:9,2:5]\n",
    "print(b)\n",
    "c=df.iloc[:,1:4]\n",
    "print(c)"
   ]
  },
  {
   "cell_type": "code",
   "execution_count": 4,
   "id": "161e2216-0d1d-4950-8079-d59a4465d7a7",
   "metadata": {},
   "outputs": [
    {
     "name": "stdout",
     "output_type": "stream",
     "text": [
      "   Id  SepalLengthCm  SepalWidthCm  PetalLengthCm  PetalWidthCm      Species\n",
      "0   1            5.1           3.5            1.4           0.2  Iris-setosa\n",
      "1   2            4.9           3.0            1.4           0.2  Iris-setosa\n",
      "2   3            4.7           3.2            1.3           0.2  Iris-setosa\n",
      "3   4            4.6           3.1            1.5           0.2  Iris-setosa\n",
      "4   5            5.0           3.6            1.4           0.2  Iris-setosa\n"
     ]
    }
   ],
   "source": [
    "irisdf= pd.read_csv(\"iris.csv\")\n",
    "print(irisdf.head(5))"
   ]
  },
  {
   "cell_type": "code",
   "execution_count": 5,
   "id": "bb576e06-24f7-43c3-96d5-4aeae7415a2e",
   "metadata": {},
   "outputs": [
    {
     "name": "stdout",
     "output_type": "stream",
     "text": [
      "      Id  SepalLengthCm  SepalWidthCm  PetalWidthCm         Species\n",
      "0      1            5.1           3.5           0.2     Iris-setosa\n",
      "1      2            4.9           3.0           0.2     Iris-setosa\n",
      "2      3            4.7           3.2           0.2     Iris-setosa\n",
      "3      4            4.6           3.1           0.2     Iris-setosa\n",
      "5      6            5.4           3.9           0.4     Iris-setosa\n",
      "..   ...            ...           ...           ...             ...\n",
      "145  146            6.7           3.0           2.3  Iris-virginica\n",
      "146  147            6.3           2.5           1.9  Iris-virginica\n",
      "147  148            6.5           3.0           2.0  Iris-virginica\n",
      "148  149            6.2           3.4           2.3  Iris-virginica\n",
      "149  150            5.9           3.0           1.8  Iris-virginica\n",
      "\n",
      "[149 rows x 5 columns]\n"
     ]
    }
   ],
   "source": [
    "df1= irisdf.drop(index=4).drop(irisdf.columns[3], axis=1)\n",
    "print(df1)"
   ]
  },
  {
   "cell_type": "code",
   "execution_count": 6,
   "id": "f3534b13-501f-4588-b96d-cef5a7d7704b",
   "metadata": {},
   "outputs": [],
   "source": [
    "employee_data = {\n",
    "    'Employee_ID': [101, 102, 103, 104, 105],\n",
    "    'Name': ['Alice ', 'Bob ', 'Charlie', 'Diana', 'Edward'],\n",
    "    'Department': ['HR', 'IT', 'IT', 'Marketing', 'Sales'],\n",
    "    'Age': [29, 34, 41, 28, 38],\n",
    "    'Salary': [50000, 70000, 65000, 55000, 60000],\n",
    "    'Years_of_Experience': [4, 8, 10, 3, 12],\n",
    "    'Joining_Date': ['2020-03-15', '2017-07-19', '2013-06-01', '2021-02-10', '2010-11-25'],\n",
    "    'Gender': ['Female', 'Male', 'Male', 'Female', 'Male'],\n",
    "    'Bonus': [5000, 7000, 6000, 4500, 5000],\n",
    "    'Rating': [4.5, 4.0, 3.8, 4.7, 3.5]\n",
    "}\n",
    "employees_df = pd.DataFrame(employee_data)\n",
    "employees_df.to_csv('employees.csv', index=False)"
   ]
  },
  {
   "cell_type": "code",
   "execution_count": 7,
   "id": "11898bfd-0d3b-4d1f-90ea-7e7d463fe8de",
   "metadata": {},
   "outputs": [
    {
     "name": "stdout",
     "output_type": "stream",
     "text": [
      "(5, 10)\n"
     ]
    }
   ],
   "source": [
    "print(employees_df.shape)"
   ]
  },
  {
   "cell_type": "code",
   "execution_count": 8,
   "id": "6efc4585-b485-483e-aaa5-73e1da4b0302",
   "metadata": {},
   "outputs": [
    {
     "name": "stdout",
     "output_type": "stream",
     "text": [
      "<class 'pandas.core.frame.DataFrame'>\n",
      "RangeIndex: 5 entries, 0 to 4\n",
      "Data columns (total 10 columns):\n",
      " #   Column               Non-Null Count  Dtype  \n",
      "---  ------               --------------  -----  \n",
      " 0   Employee_ID          5 non-null      int64  \n",
      " 1   Name                 5 non-null      object \n",
      " 2   Department           5 non-null      object \n",
      " 3   Age                  5 non-null      int64  \n",
      " 4   Salary               5 non-null      int64  \n",
      " 5   Years_of_Experience  5 non-null      int64  \n",
      " 6   Joining_Date         5 non-null      object \n",
      " 7   Gender               5 non-null      object \n",
      " 8   Bonus                5 non-null      int64  \n",
      " 9   Rating               5 non-null      float64\n",
      "dtypes: float64(1), int64(5), object(4)\n",
      "memory usage: 532.0+ bytes\n",
      "None\n"
     ]
    }
   ],
   "source": [
    "print(employees_df.info())"
   ]
  },
  {
   "cell_type": "code",
   "execution_count": 9,
   "id": "d9b9b4bc-6f5e-4f15-bb2f-4e70f8c487f5",
   "metadata": {},
   "outputs": [
    {
     "name": "stdout",
     "output_type": "stream",
     "text": [
      "       Employee_ID        Age       Salary  Years_of_Experience   Bonus  \\\n",
      "count     5.000000   5.000000      5.00000             5.000000     5.0   \n",
      "mean    103.000000  34.000000  60000.00000             7.400000  5500.0   \n",
      "std       1.581139   5.612486   7905.69415             3.847077  1000.0   \n",
      "min     101.000000  28.000000  50000.00000             3.000000  4500.0   \n",
      "25%     102.000000  29.000000  55000.00000             4.000000  5000.0   \n",
      "50%     103.000000  34.000000  60000.00000             8.000000  5000.0   \n",
      "75%     104.000000  38.000000  65000.00000            10.000000  6000.0   \n",
      "max     105.000000  41.000000  70000.00000            12.000000  7000.0   \n",
      "\n",
      "         Rating  \n",
      "count  5.000000  \n",
      "mean   4.100000  \n",
      "std    0.494975  \n",
      "min    3.500000  \n",
      "25%    3.800000  \n",
      "50%    4.000000  \n",
      "75%    4.500000  \n",
      "max    4.700000  \n"
     ]
    }
   ],
   "source": [
    "print(employees_df.describe())"
   ]
  },
  {
   "cell_type": "code",
   "execution_count": 10,
   "id": "26a89569-373e-40b0-a2c8-e90c0fe09066",
   "metadata": {},
   "outputs": [
    {
     "name": "stdout",
     "output_type": "stream",
     "text": [
      "   Employee_ID     Name Department  Age  Salary  Years_of_Experience  \\\n",
      "0          101   Alice          HR   29   50000                    4   \n",
      "1          102     Bob          IT   34   70000                    8   \n",
      "2          103  Charlie         IT   41   65000                   10   \n",
      "3          104    Diana  Marketing   28   55000                    3   \n",
      "4          105   Edward      Sales   38   60000                   12   \n",
      "\n",
      "  Joining_Date  Gender  Bonus  Rating  \n",
      "0   2020-03-15  Female   5000     4.5  \n",
      "1   2017-07-19    Male   7000     4.0  \n",
      "2   2013-06-01    Male   6000     3.8  \n",
      "3   2021-02-10  Female   4500     4.7  \n",
      "4   2010-11-25    Male   5000     3.5  \n",
      "   Employee_ID     Name Department  Age  Salary  Years_of_Experience  \\\n",
      "2          103  Charlie         IT   41   65000                   10   \n",
      "3          104    Diana  Marketing   28   55000                    3   \n",
      "4          105   Edward      Sales   38   60000                   12   \n",
      "\n",
      "  Joining_Date  Gender  Bonus  Rating  \n",
      "2   2013-06-01    Male   6000     3.8  \n",
      "3   2021-02-10  Female   4500     4.7  \n",
      "4   2010-11-25    Male   5000     3.5  \n"
     ]
    }
   ],
   "source": [
    "print(employees_df.head(5))\n",
    "print(employees_df.tail(3))"
   ]
  },
  {
   "cell_type": "code",
   "execution_count": 11,
   "id": "795962df-556b-4903-a627-ec876b42e96a",
   "metadata": {},
   "outputs": [
    {
     "name": "stdout",
     "output_type": "stream",
     "text": [
      "60000.0\n",
      "27500\n",
      "28\n",
      "4.7\n"
     ]
    }
   ],
   "source": [
    "print(employees_df['Salary'].mean())\n",
    "print(employees_df['Bonus'].sum())\n",
    "print(employees_df['Age'].min())\n",
    "print(employees_df['Rating'].max())"
   ]
  },
  {
   "cell_type": "code",
   "execution_count": 12,
   "id": "7a354b05-ac64-42e9-bd73-4db45e3bcafb",
   "metadata": {},
   "outputs": [
    {
     "name": "stdout",
     "output_type": "stream",
     "text": [
      "   Employee_ID     Name Department  Age  Salary  Years_of_Experience  \\\n",
      "1          102     Bob          IT   34   70000                    8   \n",
      "2          103  Charlie         IT   41   65000                   10   \n",
      "4          105   Edward      Sales   38   60000                   12   \n",
      "3          104    Diana  Marketing   28   55000                    3   \n",
      "0          101   Alice          HR   29   50000                    4   \n",
      "\n",
      "  Joining_Date  Gender  Bonus  Rating  \n",
      "1   2017-07-19    Male   7000     4.0  \n",
      "2   2013-06-01    Male   6000     3.8  \n",
      "4   2010-11-25    Male   5000     3.5  \n",
      "3   2021-02-10  Female   4500     4.7  \n",
      "0   2020-03-15  Female   5000     4.5  \n"
     ]
    }
   ],
   "source": [
    "SortedDf = employees_df.sort_values(by='Salary', ascending=False)\n",
    "print(SortedDf)"
   ]
  },
  {
   "cell_type": "code",
   "execution_count": 13,
   "id": "d57c3221-b7e8-44ca-befd-429d0fd7a4c1",
   "metadata": {},
   "outputs": [
    {
     "name": "stdout",
     "output_type": "stream",
     "text": [
      "   Employee_ID     Name Department  Age  Salary  Years_of_Experience  \\\n",
      "0          101   Alice          HR   29   50000                    4   \n",
      "1          102     Bob          IT   34   70000                    8   \n",
      "2          103  Charlie         IT   41   65000                   10   \n",
      "3          104    Diana  Marketing   28   55000                    3   \n",
      "4          105   Edward      Sales   38   60000                   12   \n",
      "\n",
      "  Joining_Date  Gender  Bonus  Rating PerformanceRating  \n",
      "0   2020-03-15  Female   5000     4.5         Excellent  \n",
      "1   2017-07-19    Male   7000     4.0              Good  \n",
      "2   2013-06-01    Male   6000     3.8           Average  \n",
      "3   2021-02-10  Female   4500     4.7         Excellent  \n",
      "4   2010-11-25    Male   5000     3.5           Average  \n"
     ]
    }
   ],
   "source": [
    "def categorize_rating(rating):\n",
    "    if rating >= 4.5:\n",
    "        return 'Excellent'\n",
    "    elif rating >= 4.0:\n",
    "        return 'Good'\n",
    "    else:\n",
    "        return 'Average'\n",
    "\n",
    "employees_df['PerformanceRating'] = employees_df['Rating'].apply(categorize_rating)\n",
    "print(employees_df)"
   ]
  },
  {
   "cell_type": "code",
   "execution_count": 14,
   "id": "af77422a-a939-4a32-a2ad-035c3a27661e",
   "metadata": {},
   "outputs": [
    {
     "name": "stdout",
     "output_type": "stream",
     "text": [
      "Employee_ID            0\n",
      "Name                   0\n",
      "Department             0\n",
      "Age                    0\n",
      "Salary                 0\n",
      "Years_of_Experience    0\n",
      "Joining_Date           0\n",
      "Gender                 0\n",
      "Bonus                  0\n",
      "Rating                 0\n",
      "PerformanceRating      0\n",
      "dtype: int64\n"
     ]
    }
   ],
   "source": [
    "print( employees_df.isnull().sum())"
   ]
  },
  {
   "cell_type": "code",
   "execution_count": 15,
   "id": "91d614dd-bd77-4972-83d3-3a542fc4cbd6",
   "metadata": {},
   "outputs": [
    {
     "name": "stdout",
     "output_type": "stream",
     "text": [
      "    ID     Name Department  Age  Salary  Years_of_Experience Joining_Date  \\\n",
      "0  101   Alice          HR   29   50000                    4   2020-03-15   \n",
      "1  102     Bob          IT   34   70000                    8   2017-07-19   \n",
      "2  103  Charlie         IT   41   65000                   10   2013-06-01   \n",
      "3  104    Diana  Marketing   28   55000                    3   2021-02-10   \n",
      "4  105   Edward      Sales   38   60000                   12   2010-11-25   \n",
      "\n",
      "   Gender  Bonus  Rating PerformanceRating  \n",
      "0  Female   5000     4.5         Excellent  \n",
      "1    Male   7000     4.0              Good  \n",
      "2    Male   6000     3.8           Average  \n",
      "3  Female   4500     4.7         Excellent  \n",
      "4    Male   5000     3.5           Average  \n"
     ]
    }
   ],
   "source": [
    "employees_df.rename(columns={'Employee_ID': 'ID'}, inplace=True)\n",
    "print(employees_df)"
   ]
  },
  {
   "cell_type": "code",
   "execution_count": 16,
   "id": "2a8d38a4-6aa7-42d8-92e2-95d580a03de7",
   "metadata": {},
   "outputs": [
    {
     "name": "stdout",
     "output_type": "stream",
     "text": [
      "    ID     Name Department  Age  Salary  Years_of_Experience Joining_Date  \\\n",
      "1  102     Bob          IT   34   70000                    8   2017-07-19   \n",
      "2  103  Charlie         IT   41   65000                   10   2013-06-01   \n",
      "4  105   Edward      Sales   38   60000                   12   2010-11-25   \n",
      "\n",
      "  Gender  Bonus  Rating PerformanceRating  \n",
      "1   Male   7000     4.0              Good  \n",
      "2   Male   6000     3.8           Average  \n",
      "4   Male   5000     3.5           Average  \n",
      "    ID     Name Department  Age  Salary  Years_of_Experience Joining_Date  \\\n",
      "1  102     Bob          IT   34   70000                    8   2017-07-19   \n",
      "2  103  Charlie         IT   41   65000                   10   2013-06-01   \n",
      "\n",
      "  Gender  Bonus  Rating PerformanceRating  \n",
      "1   Male   7000     4.0              Good  \n",
      "2   Male   6000     3.8           Average  \n"
     ]
    }
   ],
   "source": [
    "experienced= employees_df[employees_df['Years_of_Experience'] > 5]\n",
    "IT_employees = employees_df[employees_df['Department'] == 'IT']\n",
    "print(experienced)\n",
    "print(IT_employees)"
   ]
  },
  {
   "cell_type": "code",
   "execution_count": 17,
   "id": "d4b5594b-760d-4182-8c64-1e49465e2e2e",
   "metadata": {},
   "outputs": [
    {
     "name": "stdout",
     "output_type": "stream",
     "text": [
      "    ID     Name Department  Age  Salary  Years_of_Experience Joining_Date  \\\n",
      "0  101   Alice          HR   29   50000                    4   2020-03-15   \n",
      "1  102     Bob          IT   34   70000                    8   2017-07-19   \n",
      "2  103  Charlie         IT   41   65000                   10   2013-06-01   \n",
      "3  104    Diana  Marketing   28   55000                    3   2021-02-10   \n",
      "4  105   Edward      Sales   38   60000                   12   2010-11-25   \n",
      "\n",
      "   Gender  Bonus  Rating PerformanceRating     Tax  \n",
      "0  Female   5000     4.5         Excellent  5000.0  \n",
      "1    Male   7000     4.0              Good  7000.0  \n",
      "2    Male   6000     3.8           Average  6500.0  \n",
      "3  Female   4500     4.7         Excellent  5500.0  \n",
      "4    Male   5000     3.5           Average  6000.0  \n"
     ]
    }
   ],
   "source": [
    "employees_df['Tax'] = employees_df['Salary'] * 0.1\n",
    "print(employees_df)"
   ]
  },
  {
   "cell_type": "code",
   "execution_count": 18,
   "id": "b051f945-9d9c-4d35-bbf4-82d8847a781e",
   "metadata": {},
   "outputs": [],
   "source": [
    "employees_df.to_csv(\"modified_employees.csv\", index=False)"
   ]
  }
 ],
 "metadata": {
  "kernelspec": {
   "display_name": "Python 3 (ipykernel)",
   "language": "python",
   "name": "python3"
  },
  "language_info": {
   "codemirror_mode": {
    "name": "ipython",
    "version": 3
   },
   "file_extension": ".py",
   "mimetype": "text/x-python",
   "name": "python",
   "nbconvert_exporter": "python",
   "pygments_lexer": "ipython3",
   "version": "3.12.7"
  }
 },
 "nbformat": 4,
 "nbformat_minor": 5
}
