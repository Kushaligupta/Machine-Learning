{
 "cells": [
  {
   "cell_type": "code",
   "execution_count": 5,
   "id": "73c1cc3b-8ce5-43af-bcf5-9ed664ccc225",
   "metadata": {},
   "outputs": [
    {
     "name": "stdout",
     "output_type": "stream",
     "text": [
      "   Avg. Area Income  Avg. Area House Age  Avg. Area Number of Rooms  \\\n",
      "0       79545.45857             5.682861                   7.009188   \n",
      "1       79248.64245             6.002900                   6.730821   \n",
      "2       61287.06718             5.865890                   8.512727   \n",
      "3       63345.24005             7.188236                   5.586729   \n",
      "4       59982.19723             5.040555                   7.839388   \n",
      "\n",
      "   Avg. Area Number of Bedrooms  Area Population         Price  \n",
      "0                          4.09      23086.80050  1.059034e+06  \n",
      "1                          3.09      40173.07217  1.505891e+06  \n",
      "2                          5.13      36882.15940  1.058988e+06  \n",
      "3                          3.26      34310.24283  1.260617e+06  \n",
      "4                          4.23      26354.10947  6.309435e+05  \n"
     ]
    }
   ],
   "source": [
    "import pandas as pd\n",
    "import numpy as np\n",
    "from sklearn.preprocessing import StandardScaler\n",
    "from sklearn.model_selection import KFold,train_test_split\n",
    "from sklearn.metrics import r2_score\n",
    "df=pd.read_csv('USA_Housing.csv')\n",
    "print(df.head())"
   ]
  },
  {
   "cell_type": "code",
   "execution_count": 10,
   "id": "24f628ed-f451-44a3-ac8a-7e7d0ef34575",
   "metadata": {},
   "outputs": [],
   "source": [
    "X=df.drop('Price',axis=1).values\n",
    "y = df['Price'].values.reshape(-1,1)\n",
    "\n",
    "scaler=StandardScaler()\n",
    "X_scaled=scaler.fit_transform(X)\n",
    "\n",
    "kf=KFold(n_splits=5,shuffle=True,random_state=42)\n",
    "best_beta = None\n",
    "best_r2=np.inf\n",
    "r2_scores=[]"
   ]
  },
  {
   "cell_type": "code",
   "execution_count": 11,
   "id": "119bd694-62b5-42f9-bfde-73ca1148b837",
   "metadata": {},
   "outputs": [
    {
     "name": "stdout",
     "output_type": "stream",
     "text": [
      "Fold 1: R2 = 0.9180\n",
      "Fold 2: R2 = 0.9146\n",
      "Fold 3: R2 = 0.9116\n",
      "Fold 4: R2 = 0.9193\n",
      "Fold 5: R2 = 0.9244\n",
      "\n",
      "Best β coefficients: None\n",
      "Best R2 score: inf\n",
      "\n",
      "Final R2 on 30% test data: 0.9146818498916266\n"
     ]
    }
   ],
   "source": [
    "fold=1\n",
    "for train_index,test_index in kf.split(X_scaled):\n",
    "    X_train,X_test = X_scaled[train_index],X_scaled[test_index]\n",
    "    y_train,y_test=y[train_index],y[test_index]\n",
    "    \n",
    "    X_train_aug = np.c_[np.ones(X_train.shape[0]), X_train]  \n",
    "    X_test_aug = np.c_[np.ones(X_test.shape[0]), X_test]\n",
    "    \n",
    "    beta = np.linalg.inv(X_train_aug.T @ X_train_aug) @ X_train_aug.T @ y_train\n",
    "    \n",
    "    y_pred = X_test_aug @ beta\n",
    "    \n",
    "    r2 = r2_score(y_test, y_pred)\n",
    "    print(f\"Fold {fold}: R2 = {r2:.4f}\")\n",
    "    fold += 1\n",
    "    \n",
    "    if r2 > best_r2:\n",
    "        best_r2 = r2\n",
    "        best_beta = beta\n",
    "\n",
    "print(best_beta)\n",
    "print(best_r2)\n",
    "\n",
    "X_train, X_test, y_train, y_test = train_test_split(X_scaled, y, test_size=0.3, random_state=42)\n",
    "\n",
    "X_train_aug = np.c_[np.ones(X_train.shape[0]), X_train]\n",
    "X_test_aug = np.c_[np.ones(X_test.shape[0]), X_test]\n",
    "\n",
    "beta_final = np.linalg.inv(X_train_aug.T @ X_train_aug) @ X_train_aug.T @ y_train\n",
    "y_pred_final = X_test_aug @ beta_final\n",
    "\n",
    "print(r2_score(y_test, y_pred_final))"
   ]
  },
  {
   "cell_type": "code",
   "execution_count": null,
   "id": "7d28e59f-4455-41d2-87f9-f18bbd50e63b",
   "metadata": {},
   "outputs": [],
   "source": []
  }
 ],
 "metadata": {
  "kernelspec": {
   "display_name": "Python 3 (ipykernel)",
   "language": "python",
   "name": "python3"
  },
  "language_info": {
   "codemirror_mode": {
    "name": "ipython",
    "version": 3
   },
   "file_extension": ".py",
   "mimetype": "text/x-python",
   "name": "python",
   "nbconvert_exporter": "python",
   "pygments_lexer": "ipython3",
   "version": "3.12.7"
  }
 },
 "nbformat": 4,
 "nbformat_minor": 5
}
